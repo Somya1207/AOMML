{
 "cells": [
  {
   "cell_type": "code",
   "execution_count": null,
   "metadata": {},
   "outputs": [],
   "source": [
    "!pip install torchviz==0.0.3 -q\n"
   ]
  },
  {
   "cell_type": "code",
   "execution_count": 4,
   "metadata": {},
   "outputs": [
    {
     "name": "stdout",
     "output_type": "stream",
     "text": [
      "Collecting transformers\n",
      "  Downloading transformers-4.48.0-py3-none-any.whl.metadata (44 kB)\n",
      "\u001b[2K     \u001b[90m━━━━━━━━━━━━━━━━━━━━━━━━━━━━━━━━━━━━━━━━\u001b[0m \u001b[32m44.4/44.4 kB\u001b[0m \u001b[31m2.5 MB/s\u001b[0m eta \u001b[36m0:00:00\u001b[0m\n",
      "\u001b[?25hRequirement already satisfied: filelock in /home/somya/miniconda3/envs/dl/lib/python3.11/site-packages (from transformers) (3.9.0)\n",
      "Collecting huggingface-hub<1.0,>=0.24.0 (from transformers)\n",
      "  Downloading huggingface_hub-0.27.1-py3-none-any.whl.metadata (13 kB)\n",
      "Requirement already satisfied: numpy>=1.17 in /home/somya/miniconda3/envs/dl/lib/python3.11/site-packages (from transformers) (1.23.5)\n",
      "Requirement already satisfied: packaging>=20.0 in /home/somya/miniconda3/envs/dl/lib/python3.11/site-packages (from transformers) (23.1)\n",
      "Requirement already satisfied: pyyaml>=5.1 in /home/somya/miniconda3/envs/dl/lib/python3.11/site-packages (from transformers) (5.4.1)\n",
      "Collecting regex!=2019.12.17 (from transformers)\n",
      "  Downloading regex-2024.11.6-cp311-cp311-manylinux_2_17_x86_64.manylinux2014_x86_64.whl.metadata (40 kB)\n",
      "\u001b[2K     \u001b[90m━━━━━━━━━━━━━━━━━━━━━━━━━━━━━━━━━━━━━━━━\u001b[0m \u001b[32m40.5/40.5 kB\u001b[0m \u001b[31m10.7 MB/s\u001b[0m eta \u001b[36m0:00:00\u001b[0m\n",
      "\u001b[?25hRequirement already satisfied: requests in /home/somya/miniconda3/envs/dl/lib/python3.11/site-packages (from transformers) (2.31.0)\n",
      "Collecting tokenizers<0.22,>=0.21 (from transformers)\n",
      "  Downloading tokenizers-0.21.0-cp39-abi3-manylinux_2_17_x86_64.manylinux2014_x86_64.whl.metadata (6.7 kB)\n",
      "Collecting safetensors>=0.4.1 (from transformers)\n",
      "  Downloading safetensors-0.5.2-cp38-abi3-manylinux_2_17_x86_64.manylinux2014_x86_64.whl.metadata (3.8 kB)\n",
      "Requirement already satisfied: tqdm>=4.27 in /home/somya/miniconda3/envs/dl/lib/python3.11/site-packages (from transformers) (4.64.1)\n",
      "Collecting fsspec>=2023.5.0 (from huggingface-hub<1.0,>=0.24.0->transformers)\n",
      "  Downloading fsspec-2024.12.0-py3-none-any.whl.metadata (11 kB)\n",
      "Requirement already satisfied: typing-extensions>=3.7.4.3 in /home/somya/miniconda3/envs/dl/lib/python3.11/site-packages (from huggingface-hub<1.0,>=0.24.0->transformers) (4.8.0)\n",
      "Requirement already satisfied: charset-normalizer<4,>=2 in /home/somya/miniconda3/envs/dl/lib/python3.11/site-packages (from requests->transformers) (3.3.2)\n",
      "Requirement already satisfied: idna<4,>=2.5 in /home/somya/miniconda3/envs/dl/lib/python3.11/site-packages (from requests->transformers) (3.4)\n",
      "Requirement already satisfied: urllib3<3,>=1.21.1 in /home/somya/miniconda3/envs/dl/lib/python3.11/site-packages (from requests->transformers) (2.0.7)\n",
      "Requirement already satisfied: certifi>=2017.4.17 in /home/somya/miniconda3/envs/dl/lib/python3.11/site-packages (from requests->transformers) (2022.6.15.2)\n",
      "Downloading transformers-4.48.0-py3-none-any.whl (9.7 MB)\n",
      "\u001b[2K   \u001b[90m━━━━━━━━━━━━━━━━━━━━━━━━━━━━━━━━━━━━━━━━\u001b[0m \u001b[32m9.7/9.7 MB\u001b[0m \u001b[31m1.6 MB/s\u001b[0m eta \u001b[36m0:00:00\u001b[0m00:01\u001b[0m00:01\u001b[0mm\n",
      "\u001b[?25hDownloading huggingface_hub-0.27.1-py3-none-any.whl (450 kB)\n",
      "\u001b[2K   \u001b[90m━━━━━━━━━━━━━━━━━━━━━━━━━━━━━━━━━━━━━━━━\u001b[0m \u001b[32m450.7/450.7 kB\u001b[0m \u001b[31m3.9 MB/s\u001b[0m eta \u001b[36m0:00:00\u001b[0ma \u001b[36m0:00:01\u001b[0m\n",
      "\u001b[?25hDownloading regex-2024.11.6-cp311-cp311-manylinux_2_17_x86_64.manylinux2014_x86_64.whl (792 kB)\n",
      "\u001b[2K   \u001b[90m━━━━━━━━━━━━━━━━━━━━━━━━━━━━━━━━━━━━━━━━\u001b[0m \u001b[32m792.7/792.7 kB\u001b[0m \u001b[31m4.7 MB/s\u001b[0m eta \u001b[36m0:00:00\u001b[0ma \u001b[36m0:00:01\u001b[0m\n",
      "\u001b[?25hDownloading safetensors-0.5.2-cp38-abi3-manylinux_2_17_x86_64.manylinux2014_x86_64.whl (461 kB)\n",
      "\u001b[2K   \u001b[90m━━━━━━━━━━━━━━━━━━━━━━━━━━━━━━━━━━━━━━━━\u001b[0m \u001b[32m462.0/462.0 kB\u001b[0m \u001b[31m1.2 MB/s\u001b[0m eta \u001b[36m0:00:00\u001b[0ma \u001b[36m0:00:01\u001b[0m\n",
      "\u001b[?25hDownloading tokenizers-0.21.0-cp39-abi3-manylinux_2_17_x86_64.manylinux2014_x86_64.whl (3.0 MB)\n",
      "\u001b[2K   \u001b[90m━━━━━━━━━━━━━━━━━━━━━━━━━━━━━━━━━━━━━━━━\u001b[0m \u001b[32m3.0/3.0 MB\u001b[0m \u001b[31m3.1 MB/s\u001b[0m eta \u001b[36m0:00:00\u001b[0m00:01\u001b[0m00:01\u001b[0m\n",
      "\u001b[?25hDownloading fsspec-2024.12.0-py3-none-any.whl (183 kB)\n",
      "\u001b[2K   \u001b[90m━━━━━━━━━━━━━━━━━━━━━━━━━━━━━━━━━━━━━━━━\u001b[0m \u001b[32m183.9/183.9 kB\u001b[0m \u001b[31m2.4 MB/s\u001b[0m eta \u001b[36m0:00:00\u001b[0ma \u001b[36m0:00:01\u001b[0m\n",
      "\u001b[?25hInstalling collected packages: safetensors, regex, fsspec, huggingface-hub, tokenizers, transformers\n",
      "  Attempting uninstall: fsspec\n",
      "    Found existing installation: fsspec 2023.4.0\n",
      "    Uninstalling fsspec-2023.4.0:\n",
      "      Successfully uninstalled fsspec-2023.4.0\n",
      "Successfully installed fsspec-2024.12.0 huggingface-hub-0.27.1 regex-2024.11.6 safetensors-0.5.2 tokenizers-0.21.0 transformers-4.48.0\n",
      "Note: you may need to restart the kernel to use updated packages.\n"
     ]
    }
   ],
   "source": [
    "pip install transformers"
   ]
  },
  {
   "cell_type": "code",
   "execution_count": 7,
   "metadata": {},
   "outputs": [
    {
     "name": "stdout",
     "output_type": "stream",
     "text": [
      "Collecting timm\n",
      "  Downloading timm-1.0.13-py3-none-any.whl.metadata (53 kB)\n",
      "\u001b[2K     \u001b[90m━━━━━━━━━━━━━━━━━━━━━━━━━━━━━━━━━━━━━━━━\u001b[0m \u001b[32m53.3/53.3 kB\u001b[0m \u001b[31m3.8 MB/s\u001b[0m eta \u001b[36m0:00:00\u001b[0m\n",
      "\u001b[?25hRequirement already satisfied: torch in /home/somya/miniconda3/envs/dl/lib/python3.11/site-packages (from timm) (2.2.0+cu118)\n",
      "Requirement already satisfied: torchvision in /home/somya/miniconda3/envs/dl/lib/python3.11/site-packages (from timm) (0.17.0)\n",
      "Requirement already satisfied: pyyaml in /home/somya/miniconda3/envs/dl/lib/python3.11/site-packages (from timm) (5.4.1)\n",
      "Requirement already satisfied: huggingface_hub in /home/somya/miniconda3/envs/dl/lib/python3.11/site-packages (from timm) (0.27.1)\n",
      "Requirement already satisfied: safetensors in /home/somya/miniconda3/envs/dl/lib/python3.11/site-packages (from timm) (0.5.2)\n",
      "Requirement already satisfied: filelock in /home/somya/miniconda3/envs/dl/lib/python3.11/site-packages (from huggingface_hub->timm) (3.9.0)\n",
      "Requirement already satisfied: fsspec>=2023.5.0 in /home/somya/miniconda3/envs/dl/lib/python3.11/site-packages (from huggingface_hub->timm) (2024.12.0)\n",
      "Requirement already satisfied: packaging>=20.9 in /home/somya/miniconda3/envs/dl/lib/python3.11/site-packages (from huggingface_hub->timm) (23.1)\n",
      "Requirement already satisfied: requests in /home/somya/miniconda3/envs/dl/lib/python3.11/site-packages (from huggingface_hub->timm) (2.31.0)\n",
      "Requirement already satisfied: tqdm>=4.42.1 in /home/somya/miniconda3/envs/dl/lib/python3.11/site-packages (from huggingface_hub->timm) (4.64.1)\n",
      "Requirement already satisfied: typing-extensions>=3.7.4.3 in /home/somya/miniconda3/envs/dl/lib/python3.11/site-packages (from huggingface_hub->timm) (4.8.0)\n",
      "Requirement already satisfied: sympy in /home/somya/miniconda3/envs/dl/lib/python3.11/site-packages (from torch->timm) (1.12)\n",
      "Requirement already satisfied: networkx in /home/somya/miniconda3/envs/dl/lib/python3.11/site-packages (from torch->timm) (2.8.5)\n",
      "Requirement already satisfied: jinja2 in /home/somya/miniconda3/envs/dl/lib/python3.11/site-packages (from torch->timm) (3.1.3)\n",
      "Requirement already satisfied: nvidia-cuda-nvrtc-cu11==11.8.89 in /home/somya/miniconda3/envs/dl/lib/python3.11/site-packages (from torch->timm) (11.8.89)\n",
      "Requirement already satisfied: nvidia-cuda-runtime-cu11==11.8.89 in /home/somya/miniconda3/envs/dl/lib/python3.11/site-packages (from torch->timm) (11.8.89)\n",
      "Requirement already satisfied: nvidia-cuda-cupti-cu11==11.8.87 in /home/somya/miniconda3/envs/dl/lib/python3.11/site-packages (from torch->timm) (11.8.87)\n",
      "Requirement already satisfied: nvidia-cudnn-cu11==8.7.0.84 in /home/somya/miniconda3/envs/dl/lib/python3.11/site-packages (from torch->timm) (8.7.0.84)\n",
      "Requirement already satisfied: nvidia-cublas-cu11==11.11.3.6 in /home/somya/miniconda3/envs/dl/lib/python3.11/site-packages (from torch->timm) (11.11.3.6)\n",
      "Requirement already satisfied: nvidia-cufft-cu11==10.9.0.58 in /home/somya/miniconda3/envs/dl/lib/python3.11/site-packages (from torch->timm) (10.9.0.58)\n",
      "Requirement already satisfied: nvidia-curand-cu11==10.3.0.86 in /home/somya/miniconda3/envs/dl/lib/python3.11/site-packages (from torch->timm) (10.3.0.86)\n",
      "Requirement already satisfied: nvidia-cusolver-cu11==11.4.1.48 in /home/somya/miniconda3/envs/dl/lib/python3.11/site-packages (from torch->timm) (11.4.1.48)\n",
      "Requirement already satisfied: nvidia-cusparse-cu11==11.7.5.86 in /home/somya/miniconda3/envs/dl/lib/python3.11/site-packages (from torch->timm) (11.7.5.86)\n",
      "Requirement already satisfied: nvidia-nccl-cu11==2.19.3 in /home/somya/miniconda3/envs/dl/lib/python3.11/site-packages (from torch->timm) (2.19.3)\n",
      "Requirement already satisfied: nvidia-nvtx-cu11==11.8.86 in /home/somya/miniconda3/envs/dl/lib/python3.11/site-packages (from torch->timm) (11.8.86)\n",
      "Requirement already satisfied: triton==2.2.0 in /home/somya/miniconda3/envs/dl/lib/python3.11/site-packages (from torch->timm) (2.2.0)\n",
      "Requirement already satisfied: numpy in /home/somya/miniconda3/envs/dl/lib/python3.11/site-packages (from torchvision->timm) (1.23.5)\n",
      "Requirement already satisfied: pillow!=8.3.*,>=5.3.0 in /home/somya/miniconda3/envs/dl/lib/python3.11/site-packages (from torchvision->timm) (9.2.0)\n",
      "Requirement already satisfied: MarkupSafe>=2.0 in /home/somya/miniconda3/envs/dl/lib/python3.11/site-packages (from jinja2->torch->timm) (2.1.3)\n",
      "Requirement already satisfied: charset-normalizer<4,>=2 in /home/somya/miniconda3/envs/dl/lib/python3.11/site-packages (from requests->huggingface_hub->timm) (3.3.2)\n",
      "Requirement already satisfied: idna<4,>=2.5 in /home/somya/miniconda3/envs/dl/lib/python3.11/site-packages (from requests->huggingface_hub->timm) (3.4)\n",
      "Requirement already satisfied: urllib3<3,>=1.21.1 in /home/somya/miniconda3/envs/dl/lib/python3.11/site-packages (from requests->huggingface_hub->timm) (2.0.7)\n",
      "Requirement already satisfied: certifi>=2017.4.17 in /home/somya/miniconda3/envs/dl/lib/python3.11/site-packages (from requests->huggingface_hub->timm) (2022.6.15.2)\n",
      "Requirement already satisfied: mpmath>=0.19 in /home/somya/miniconda3/envs/dl/lib/python3.11/site-packages (from sympy->torch->timm) (1.3.0)\n",
      "Downloading timm-1.0.13-py3-none-any.whl (2.4 MB)\n",
      "\u001b[2K   \u001b[90m━━━━━━━━━━━━━━━━━━━━━━━━━━━━━━━━━━━━━━━━\u001b[0m \u001b[32m2.4/2.4 MB\u001b[0m \u001b[31m6.3 MB/s\u001b[0m eta \u001b[36m0:00:00\u001b[0ma \u001b[36m0:00:01\u001b[0mm\n",
      "\u001b[?25hInstalling collected packages: timm\n",
      "Successfully installed timm-1.0.13\n",
      "Note: you may need to restart the kernel to use updated packages.\n"
     ]
    }
   ],
   "source": [
    "pip install timm"
   ]
  },
  {
   "cell_type": "code",
   "execution_count": null,
   "metadata": {},
   "outputs": [
    {
     "name": "stderr",
     "output_type": "stream",
     "text": [
      "/home/somya/miniconda3/envs/dl/lib/python3.11/site-packages/tqdm/auto.py:22: TqdmWarning: IProgress not found. Please update jupyter and ipywidgets. See https://ipywidgets.readthedocs.io/en/stable/user_install.html\n",
      "  from .autonotebook import tqdm as notebook_tqdm\n"
     ]
    }
   ],
   "source": [
    "import torch\n",
    "import timm #torch model\n",
    "import transformers\n",
    "from torchviz import make_dot #to visualize model"
   ]
  },
  {
   "cell_type": "code",
   "execution_count": 14,
   "metadata": {},
   "outputs": [
    {
     "data": {
      "text/plain": [
       "MLP(\n",
       "  (l1): Linear(in_features=13, out_features=64, bias=True)\n",
       "  (l2): ReLU()\n",
       "  (l3): Linear(in_features=64, out_features=32, bias=True)\n",
       "  (l4): ReLU()\n",
       "  (l5): Linear(in_features=32, out_features=10, bias=True)\n",
       ")"
      ]
     },
     "execution_count": 14,
     "metadata": {},
     "output_type": "execute_result"
    }
   ],
   "source": [
    "class MLP(torch.nn.Module):\n",
    "    def __init__(self):\n",
    "        super(MLP, self).__init__()\n",
    "        self.l1 = torch.nn.Linear(13,64)\n",
    "        self.l2 = torch.nn.ReLU()\n",
    "        self.l3 = torch.nn.Linear(64,32)\n",
    "        self.l4 = torch.nn.ReLU()\n",
    "        self.l5 = torch.nn.Linear(32,10)\n",
    "    def forward(self,x):\n",
    "        l1_out = self.l1(x)\n",
    "        l2_out = self.l2(l1_out)\n",
    "        l3_out = self.l3(l2_out)\n",
    "        l4_out = self.l4(l3_out)\n",
    "        final = self.l5(l4_out)\n",
    "        return final\n",
    "        \n",
    "model = MLP()\n",
    "model"
   ]
  },
  {
   "cell_type": "code",
   "execution_count": 15,
   "metadata": {},
   "outputs": [
    {
     "data": {
      "image/svg+xml": [
       "<?xml version=\"1.0\" encoding=\"UTF-8\" standalone=\"no\"?>\n",
       "<!DOCTYPE svg PUBLIC \"-//W3C//DTD SVG 1.1//EN\"\n",
       " \"http://www.w3.org/Graphics/SVG/1.1/DTD/svg11.dtd\">\n",
       "<!-- Generated by graphviz version 2.50.0 (0)\n",
       " -->\n",
       "<!-- Pages: 1 -->\n",
       "<svg width=\"411pt\" height=\"545pt\"\n",
       " viewBox=\"0.00 0.00 411.00 545.00\" xmlns=\"http://www.w3.org/2000/svg\" xmlns:xlink=\"http://www.w3.org/1999/xlink\">\n",
       "<g id=\"graph0\" class=\"graph\" transform=\"scale(1 1) rotate(0) translate(4 541)\">\n",
       "<polygon fill=\"white\" stroke=\"transparent\" points=\"-4,4 -4,-541 407,-541 407,4 -4,4\"/>\n",
       "<!-- 139886738618320 -->\n",
       "<g id=\"node1\" class=\"node\">\n",
       "<title>139886738618320</title>\n",
       "<polygon fill=\"#caff70\" stroke=\"black\" points=\"235,-31 170,-31 170,0 235,0 235,-31\"/>\n",
       "<text text-anchor=\"middle\" x=\"202.5\" y=\"-7\" font-family=\"monospace\" font-size=\"10.00\"> (1, 10)</text>\n",
       "</g>\n",
       "<!-- 139882693555584 -->\n",
       "<g id=\"node2\" class=\"node\">\n",
       "<title>139882693555584</title>\n",
       "<polygon fill=\"lightgrey\" stroke=\"black\" points=\"253,-86 152,-86 152,-67 253,-67 253,-86\"/>\n",
       "<text text-anchor=\"middle\" x=\"202.5\" y=\"-74\" font-family=\"monospace\" font-size=\"10.00\">AddmmBackward0</text>\n",
       "</g>\n",
       "<!-- 139882693555584&#45;&gt;139886738618320 -->\n",
       "<g id=\"edge20\" class=\"edge\">\n",
       "<title>139882693555584&#45;&gt;139886738618320</title>\n",
       "<path fill=\"none\" stroke=\"black\" d=\"M202.5,-66.79C202.5,-60.07 202.5,-50.4 202.5,-41.34\"/>\n",
       "<polygon fill=\"black\" stroke=\"black\" points=\"206,-41.19 202.5,-31.19 199,-41.19 206,-41.19\"/>\n",
       "</g>\n",
       "<!-- 139882693543824 -->\n",
       "<g id=\"node3\" class=\"node\">\n",
       "<title>139882693543824</title>\n",
       "<polygon fill=\"lightgrey\" stroke=\"black\" points=\"137,-141 36,-141 36,-122 137,-122 137,-141\"/>\n",
       "<text text-anchor=\"middle\" x=\"86.5\" y=\"-129\" font-family=\"monospace\" font-size=\"10.00\">AccumulateGrad</text>\n",
       "</g>\n",
       "<!-- 139882693543824&#45;&gt;139882693555584 -->\n",
       "<g id=\"edge1\" class=\"edge\">\n",
       "<title>139882693543824&#45;&gt;139882693555584</title>\n",
       "<path fill=\"none\" stroke=\"black\" d=\"M105.14,-121.98C123.8,-113.46 152.75,-100.23 174.24,-90.41\"/>\n",
       "<polygon fill=\"black\" stroke=\"black\" points=\"175.88,-93.51 183.52,-86.17 172.97,-87.14 175.88,-93.51\"/>\n",
       "</g>\n",
       "<!-- 139882692059664 -->\n",
       "<g id=\"node4\" class=\"node\">\n",
       "<title>139882692059664</title>\n",
       "<polygon fill=\"lightblue\" stroke=\"black\" points=\"116,-207 57,-207 57,-177 116,-177 116,-207\"/>\n",
       "<text text-anchor=\"middle\" x=\"86.5\" y=\"-195\" font-family=\"monospace\" font-size=\"10.00\">l5.bias</text>\n",
       "<text text-anchor=\"middle\" x=\"86.5\" y=\"-184\" font-family=\"monospace\" font-size=\"10.00\"> (10)</text>\n",
       "</g>\n",
       "<!-- 139882692059664&#45;&gt;139882693543824 -->\n",
       "<g id=\"edge2\" class=\"edge\">\n",
       "<title>139882692059664&#45;&gt;139882693543824</title>\n",
       "<path fill=\"none\" stroke=\"black\" d=\"M86.5,-176.84C86.5,-169.21 86.5,-159.7 86.5,-151.45\"/>\n",
       "<polygon fill=\"black\" stroke=\"black\" points=\"90,-151.27 86.5,-141.27 83,-151.27 90,-151.27\"/>\n",
       "</g>\n",
       "<!-- 139882693552512 -->\n",
       "<g id=\"node5\" class=\"node\">\n",
       "<title>139882693552512</title>\n",
       "<polygon fill=\"lightgrey\" stroke=\"black\" points=\"250,-141 155,-141 155,-122 250,-122 250,-141\"/>\n",
       "<text text-anchor=\"middle\" x=\"202.5\" y=\"-129\" font-family=\"monospace\" font-size=\"10.00\">ReluBackward0</text>\n",
       "</g>\n",
       "<!-- 139882693552512&#45;&gt;139882693555584 -->\n",
       "<g id=\"edge3\" class=\"edge\">\n",
       "<title>139882693552512&#45;&gt;139882693555584</title>\n",
       "<path fill=\"none\" stroke=\"black\" d=\"M202.5,-121.75C202.5,-114.8 202.5,-104.85 202.5,-96.13\"/>\n",
       "<polygon fill=\"black\" stroke=\"black\" points=\"206,-96.09 202.5,-86.09 199,-96.09 206,-96.09\"/>\n",
       "</g>\n",
       "<!-- 139882693552416 -->\n",
       "<g id=\"node6\" class=\"node\">\n",
       "<title>139882693552416</title>\n",
       "<polygon fill=\"lightgrey\" stroke=\"black\" points=\"236,-201.5 135,-201.5 135,-182.5 236,-182.5 236,-201.5\"/>\n",
       "<text text-anchor=\"middle\" x=\"185.5\" y=\"-189.5\" font-family=\"monospace\" font-size=\"10.00\">AddmmBackward0</text>\n",
       "</g>\n",
       "<!-- 139882693552416&#45;&gt;139882693552512 -->\n",
       "<g id=\"edge4\" class=\"edge\">\n",
       "<title>139882693552416&#45;&gt;139882693552512</title>\n",
       "<path fill=\"none\" stroke=\"black\" d=\"M188.01,-182.37C190.39,-174.16 194.06,-161.54 197.11,-151.05\"/>\n",
       "<polygon fill=\"black\" stroke=\"black\" points=\"200.55,-151.75 199.98,-141.17 193.83,-149.79 200.55,-151.75\"/>\n",
       "</g>\n",
       "<!-- 139882693554480 -->\n",
       "<g id=\"node7\" class=\"node\">\n",
       "<title>139882693554480</title>\n",
       "<polygon fill=\"lightgrey\" stroke=\"black\" points=\"101,-267.5 0,-267.5 0,-248.5 101,-248.5 101,-267.5\"/>\n",
       "<text text-anchor=\"middle\" x=\"50.5\" y=\"-255.5\" font-family=\"monospace\" font-size=\"10.00\">AccumulateGrad</text>\n",
       "</g>\n",
       "<!-- 139882693554480&#45;&gt;139882693552416 -->\n",
       "<g id=\"edge5\" class=\"edge\">\n",
       "<title>139882693554480&#45;&gt;139882693552416</title>\n",
       "<path fill=\"none\" stroke=\"black\" d=\"M68.71,-248.37C91.65,-237.49 131.31,-218.69 157.97,-206.05\"/>\n",
       "<polygon fill=\"black\" stroke=\"black\" points=\"159.61,-209.15 167.15,-201.7 156.62,-202.82 159.61,-209.15\"/>\n",
       "</g>\n",
       "<!-- 139886728793168 -->\n",
       "<g id=\"node8\" class=\"node\">\n",
       "<title>139886728793168</title>\n",
       "<polygon fill=\"lightblue\" stroke=\"black\" points=\"80,-339 21,-339 21,-309 80,-309 80,-339\"/>\n",
       "<text text-anchor=\"middle\" x=\"50.5\" y=\"-327\" font-family=\"monospace\" font-size=\"10.00\">l3.bias</text>\n",
       "<text text-anchor=\"middle\" x=\"50.5\" y=\"-316\" font-family=\"monospace\" font-size=\"10.00\"> (32)</text>\n",
       "</g>\n",
       "<!-- 139886728793168&#45;&gt;139882693554480 -->\n",
       "<g id=\"edge6\" class=\"edge\">\n",
       "<title>139886728793168&#45;&gt;139882693554480</title>\n",
       "<path fill=\"none\" stroke=\"black\" d=\"M50.5,-308.8C50.5,-299.7 50.5,-287.79 50.5,-277.9\"/>\n",
       "<polygon fill=\"black\" stroke=\"black\" points=\"54,-277.84 50.5,-267.84 47,-277.84 54,-277.84\"/>\n",
       "</g>\n",
       "<!-- 139882693549200 -->\n",
       "<g id=\"node9\" class=\"node\">\n",
       "<title>139882693549200</title>\n",
       "<polygon fill=\"lightgrey\" stroke=\"black\" points=\"214,-267.5 119,-267.5 119,-248.5 214,-248.5 214,-267.5\"/>\n",
       "<text text-anchor=\"middle\" x=\"166.5\" y=\"-255.5\" font-family=\"monospace\" font-size=\"10.00\">ReluBackward0</text>\n",
       "</g>\n",
       "<!-- 139882693549200&#45;&gt;139882693552416 -->\n",
       "<g id=\"edge7\" class=\"edge\">\n",
       "<title>139882693549200&#45;&gt;139882693552416</title>\n",
       "<path fill=\"none\" stroke=\"black\" d=\"M169.06,-248.37C171.85,-238.97 176.39,-223.67 180,-211.53\"/>\n",
       "<polygon fill=\"black\" stroke=\"black\" points=\"183.37,-212.49 182.86,-201.91 176.65,-210.5 183.37,-212.49\"/>\n",
       "</g>\n",
       "<!-- 139882693544976 -->\n",
       "<g id=\"node10\" class=\"node\">\n",
       "<title>139882693544976</title>\n",
       "<polygon fill=\"lightgrey\" stroke=\"black\" points=\"209,-333.5 108,-333.5 108,-314.5 209,-314.5 209,-333.5\"/>\n",
       "<text text-anchor=\"middle\" x=\"158.5\" y=\"-321.5\" font-family=\"monospace\" font-size=\"10.00\">AddmmBackward0</text>\n",
       "</g>\n",
       "<!-- 139882693544976&#45;&gt;139882693549200 -->\n",
       "<g id=\"edge8\" class=\"edge\">\n",
       "<title>139882693544976&#45;&gt;139882693549200</title>\n",
       "<path fill=\"none\" stroke=\"black\" d=\"M159.58,-314.37C160.74,-305.07 162.63,-289.98 164.14,-277.9\"/>\n",
       "<polygon fill=\"black\" stroke=\"black\" points=\"167.62,-278.26 165.39,-267.91 160.67,-277.39 167.62,-278.26\"/>\n",
       "</g>\n",
       "<!-- 139882693546464 -->\n",
       "<g id=\"node11\" class=\"node\">\n",
       "<title>139882693546464</title>\n",
       "<polygon fill=\"lightgrey\" stroke=\"black\" points=\"115,-399.5 14,-399.5 14,-380.5 115,-380.5 115,-399.5\"/>\n",
       "<text text-anchor=\"middle\" x=\"64.5\" y=\"-387.5\" font-family=\"monospace\" font-size=\"10.00\">AccumulateGrad</text>\n",
       "</g>\n",
       "<!-- 139882693546464&#45;&gt;139882693544976 -->\n",
       "<g id=\"edge9\" class=\"edge\">\n",
       "<title>139882693546464&#45;&gt;139882693544976</title>\n",
       "<path fill=\"none\" stroke=\"black\" d=\"M77.18,-380.37C92.59,-369.87 118.85,-352 137.35,-339.4\"/>\n",
       "<polygon fill=\"black\" stroke=\"black\" points=\"139.43,-342.22 145.72,-333.7 135.49,-336.43 139.43,-342.22\"/>\n",
       "</g>\n",
       "<!-- 139882694685712 -->\n",
       "<g id=\"node12\" class=\"node\">\n",
       "<title>139882694685712</title>\n",
       "<polygon fill=\"lightblue\" stroke=\"black\" points=\"94,-471 35,-471 35,-441 94,-441 94,-471\"/>\n",
       "<text text-anchor=\"middle\" x=\"64.5\" y=\"-459\" font-family=\"monospace\" font-size=\"10.00\">l1.bias</text>\n",
       "<text text-anchor=\"middle\" x=\"64.5\" y=\"-448\" font-family=\"monospace\" font-size=\"10.00\"> (64)</text>\n",
       "</g>\n",
       "<!-- 139882694685712&#45;&gt;139882693546464 -->\n",
       "<g id=\"edge10\" class=\"edge\">\n",
       "<title>139882694685712&#45;&gt;139882693546464</title>\n",
       "<path fill=\"none\" stroke=\"black\" d=\"M64.5,-440.8C64.5,-431.7 64.5,-419.79 64.5,-409.9\"/>\n",
       "<polygon fill=\"black\" stroke=\"black\" points=\"68,-409.84 64.5,-399.84 61,-409.84 68,-409.84\"/>\n",
       "</g>\n",
       "<!-- 139882693545504 -->\n",
       "<g id=\"node13\" class=\"node\">\n",
       "<title>139882693545504</title>\n",
       "<polygon fill=\"lightgrey\" stroke=\"black\" points=\"210,-399.5 133,-399.5 133,-380.5 210,-380.5 210,-399.5\"/>\n",
       "<text text-anchor=\"middle\" x=\"171.5\" y=\"-387.5\" font-family=\"monospace\" font-size=\"10.00\">TBackward0</text>\n",
       "</g>\n",
       "<!-- 139882693545504&#45;&gt;139882693544976 -->\n",
       "<g id=\"edge11\" class=\"edge\">\n",
       "<title>139882693545504&#45;&gt;139882693544976</title>\n",
       "<path fill=\"none\" stroke=\"black\" d=\"M169.75,-380.37C167.86,-371.07 164.79,-355.98 162.34,-343.9\"/>\n",
       "<polygon fill=\"black\" stroke=\"black\" points=\"165.73,-343.01 160.31,-333.91 158.87,-344.4 165.73,-343.01\"/>\n",
       "</g>\n",
       "<!-- 139882693553952 -->\n",
       "<g id=\"node14\" class=\"node\">\n",
       "<title>139882693553952</title>\n",
       "<polygon fill=\"lightgrey\" stroke=\"black\" points=\"222,-465.5 121,-465.5 121,-446.5 222,-446.5 222,-465.5\"/>\n",
       "<text text-anchor=\"middle\" x=\"171.5\" y=\"-453.5\" font-family=\"monospace\" font-size=\"10.00\">AccumulateGrad</text>\n",
       "</g>\n",
       "<!-- 139882693553952&#45;&gt;139882693545504 -->\n",
       "<g id=\"edge12\" class=\"edge\">\n",
       "<title>139882693553952&#45;&gt;139882693545504</title>\n",
       "<path fill=\"none\" stroke=\"black\" d=\"M171.5,-446.37C171.5,-437.16 171.5,-422.29 171.5,-410.27\"/>\n",
       "<polygon fill=\"black\" stroke=\"black\" points=\"175,-409.91 171.5,-399.91 168,-409.91 175,-409.91\"/>\n",
       "</g>\n",
       "<!-- 139882692061872 -->\n",
       "<g id=\"node15\" class=\"node\">\n",
       "<title>139882692061872</title>\n",
       "<polygon fill=\"lightblue\" stroke=\"black\" points=\"207,-537 136,-537 136,-507 207,-507 207,-537\"/>\n",
       "<text text-anchor=\"middle\" x=\"171.5\" y=\"-525\" font-family=\"monospace\" font-size=\"10.00\">l1.weight</text>\n",
       "<text text-anchor=\"middle\" x=\"171.5\" y=\"-514\" font-family=\"monospace\" font-size=\"10.00\"> (64, 13)</text>\n",
       "</g>\n",
       "<!-- 139882692061872&#45;&gt;139882693553952 -->\n",
       "<g id=\"edge13\" class=\"edge\">\n",
       "<title>139882692061872&#45;&gt;139882693553952</title>\n",
       "<path fill=\"none\" stroke=\"black\" d=\"M171.5,-506.8C171.5,-497.7 171.5,-485.79 171.5,-475.9\"/>\n",
       "<polygon fill=\"black\" stroke=\"black\" points=\"175,-475.84 171.5,-465.84 168,-475.84 175,-475.84\"/>\n",
       "</g>\n",
       "<!-- 139882693553328 -->\n",
       "<g id=\"node16\" class=\"node\">\n",
       "<title>139882693553328</title>\n",
       "<polygon fill=\"lightgrey\" stroke=\"black\" points=\"309,-267.5 232,-267.5 232,-248.5 309,-248.5 309,-267.5\"/>\n",
       "<text text-anchor=\"middle\" x=\"270.5\" y=\"-255.5\" font-family=\"monospace\" font-size=\"10.00\">TBackward0</text>\n",
       "</g>\n",
       "<!-- 139882693553328&#45;&gt;139882693552416 -->\n",
       "<g id=\"edge14\" class=\"edge\">\n",
       "<title>139882693553328&#45;&gt;139882693552416</title>\n",
       "<path fill=\"none\" stroke=\"black\" d=\"M259.04,-248.37C245.22,-237.97 221.79,-220.32 205.09,-207.75\"/>\n",
       "<polygon fill=\"black\" stroke=\"black\" points=\"207.15,-204.92 197.05,-201.7 202.94,-210.51 207.15,-204.92\"/>\n",
       "</g>\n",
       "<!-- 139882693554336 -->\n",
       "<g id=\"node17\" class=\"node\">\n",
       "<title>139882693554336</title>\n",
       "<polygon fill=\"lightgrey\" stroke=\"black\" points=\"328,-333.5 227,-333.5 227,-314.5 328,-314.5 328,-333.5\"/>\n",
       "<text text-anchor=\"middle\" x=\"277.5\" y=\"-321.5\" font-family=\"monospace\" font-size=\"10.00\">AccumulateGrad</text>\n",
       "</g>\n",
       "<!-- 139882693554336&#45;&gt;139882693553328 -->\n",
       "<g id=\"edge15\" class=\"edge\">\n",
       "<title>139882693554336&#45;&gt;139882693553328</title>\n",
       "<path fill=\"none\" stroke=\"black\" d=\"M276.56,-314.37C275.54,-305.07 273.89,-289.98 272.57,-277.9\"/>\n",
       "<polygon fill=\"black\" stroke=\"black\" points=\"276.04,-277.47 271.47,-267.91 269.08,-278.23 276.04,-277.47\"/>\n",
       "</g>\n",
       "<!-- 139886728793456 -->\n",
       "<g id=\"node18\" class=\"node\">\n",
       "<title>139886728793456</title>\n",
       "<polygon fill=\"lightblue\" stroke=\"black\" points=\"313,-405 242,-405 242,-375 313,-375 313,-405\"/>\n",
       "<text text-anchor=\"middle\" x=\"277.5\" y=\"-393\" font-family=\"monospace\" font-size=\"10.00\">l3.weight</text>\n",
       "<text text-anchor=\"middle\" x=\"277.5\" y=\"-382\" font-family=\"monospace\" font-size=\"10.00\"> (32, 64)</text>\n",
       "</g>\n",
       "<!-- 139886728793456&#45;&gt;139882693554336 -->\n",
       "<g id=\"edge16\" class=\"edge\">\n",
       "<title>139886728793456&#45;&gt;139882693554336</title>\n",
       "<path fill=\"none\" stroke=\"black\" d=\"M277.5,-374.8C277.5,-365.7 277.5,-353.79 277.5,-343.9\"/>\n",
       "<polygon fill=\"black\" stroke=\"black\" points=\"281,-343.84 277.5,-333.84 274,-343.84 281,-343.84\"/>\n",
       "</g>\n",
       "<!-- 139882693553184 -->\n",
       "<g id=\"node19\" class=\"node\">\n",
       "<title>139882693553184</title>\n",
       "<polygon fill=\"lightgrey\" stroke=\"black\" points=\"382,-141 305,-141 305,-122 382,-122 382,-141\"/>\n",
       "<text text-anchor=\"middle\" x=\"343.5\" y=\"-129\" font-family=\"monospace\" font-size=\"10.00\">TBackward0</text>\n",
       "</g>\n",
       "<!-- 139882693553184&#45;&gt;139882693555584 -->\n",
       "<g id=\"edge17\" class=\"edge\">\n",
       "<title>139882693553184&#45;&gt;139882693555584</title>\n",
       "<path fill=\"none\" stroke=\"black\" d=\"M320.85,-121.98C297.65,-113.27 261.38,-99.63 235.1,-89.75\"/>\n",
       "<polygon fill=\"black\" stroke=\"black\" points=\"236.16,-86.41 225.57,-86.17 233.7,-92.97 236.16,-86.41\"/>\n",
       "</g>\n",
       "<!-- 139882693553808 -->\n",
       "<g id=\"node20\" class=\"node\">\n",
       "<title>139882693553808</title>\n",
       "<polygon fill=\"lightgrey\" stroke=\"black\" points=\"403,-201.5 302,-201.5 302,-182.5 403,-182.5 403,-201.5\"/>\n",
       "<text text-anchor=\"middle\" x=\"352.5\" y=\"-189.5\" font-family=\"monospace\" font-size=\"10.00\">AccumulateGrad</text>\n",
       "</g>\n",
       "<!-- 139882693553808&#45;&gt;139882693553184 -->\n",
       "<g id=\"edge18\" class=\"edge\">\n",
       "<title>139882693553808&#45;&gt;139882693553184</title>\n",
       "<path fill=\"none\" stroke=\"black\" d=\"M351.17,-182.37C349.91,-174.16 347.97,-161.54 346.35,-151.05\"/>\n",
       "<polygon fill=\"black\" stroke=\"black\" points=\"349.81,-150.52 344.83,-141.17 342.89,-151.58 349.81,-150.52\"/>\n",
       "</g>\n",
       "<!-- 139882692052752 -->\n",
       "<g id=\"node21\" class=\"node\">\n",
       "<title>139882692052752</title>\n",
       "<polygon fill=\"lightblue\" stroke=\"black\" points=\"398,-273 327,-273 327,-243 398,-243 398,-273\"/>\n",
       "<text text-anchor=\"middle\" x=\"362.5\" y=\"-261\" font-family=\"monospace\" font-size=\"10.00\">l5.weight</text>\n",
       "<text text-anchor=\"middle\" x=\"362.5\" y=\"-250\" font-family=\"monospace\" font-size=\"10.00\"> (10, 32)</text>\n",
       "</g>\n",
       "<!-- 139882692052752&#45;&gt;139882693553808 -->\n",
       "<g id=\"edge19\" class=\"edge\">\n",
       "<title>139882692052752&#45;&gt;139882693553808</title>\n",
       "<path fill=\"none\" stroke=\"black\" d=\"M360.28,-242.8C358.86,-233.7 357,-221.79 355.45,-211.9\"/>\n",
       "<polygon fill=\"black\" stroke=\"black\" points=\"358.88,-211.18 353.88,-201.84 351.97,-212.26 358.88,-211.18\"/>\n",
       "</g>\n",
       "</g>\n",
       "</svg>\n"
      ],
      "text/plain": [
       "<graphviz.dot.Digraph at 0x7f38fa2d60d0>"
      ]
     },
     "execution_count": 15,
     "metadata": {},
     "output_type": "execute_result"
    }
   ],
   "source": [
    "make_dot(model(torch.rand(1,13)),params=dict(model.named_parameters()))"
   ]
  },
  {
   "cell_type": "code",
   "execution_count": 16,
   "metadata": {},
   "outputs": [
    {
     "data": {
      "text/plain": [
       "<All keys matched successfully>"
      ]
     },
     "execution_count": 16,
     "metadata": {},
     "output_type": "execute_result"
    }
   ],
   "source": [
    "torch.save(model.state_dict(),\"model_weights.pth\")\n",
    "model.load_state_dict(torch.load(\"model_weights.pth\"))"
   ]
  },
  {
   "cell_type": "code",
   "execution_count": 17,
   "metadata": {},
   "outputs": [
    {
     "name": "stdout",
     "output_type": "stream",
     "text": [
      "l1.weight torch.Size([64, 13])\n",
      "l1.bias torch.Size([64])\n",
      "l3.weight torch.Size([32, 64])\n",
      "l3.bias torch.Size([32])\n",
      "l5.weight torch.Size([10, 32])\n",
      "l5.bias torch.Size([10])\n"
     ]
    }
   ],
   "source": [
    "for things in model.state_dict().items():\n",
    "    print(things[0],things[1].shape)"
   ]
  },
  {
   "cell_type": "code",
   "execution_count": 18,
   "metadata": {},
   "outputs": [
    {
     "data": {
      "text/plain": [
       "torch.nn.modules.container.ModuleList"
      ]
     },
     "execution_count": 18,
     "metadata": {},
     "output_type": "execute_result"
    }
   ],
   "source": [
    "torch.nn.ModuleList"
   ]
  },
  {
   "cell_type": "code",
   "execution_count": 19,
   "metadata": {},
   "outputs": [],
   "source": [
    "class MLP2(torch.nn.Module):\n",
    "    def __init__(self):\n",
    "        super().__init___()\n",
    "        self.layer1 = torch.nn.Sequential(\n",
    "            torch.nn.Linear(13,64),\n",
    "            torch.nn.ReLU()\n",
    "        )\n",
    "        self.layer2 = torch.nn.Sequential(\n",
    "            torch.nn.Linear(64,32),\n",
    "            torch.nn.ReLU()\n",
    "        )\n",
    "        self.layer3 = torch.nn.Linear(32,10)\n",
    "    def forward(self,x):\n",
    "        \n",
    "        "
   ]
  },
  {
   "cell_type": "code",
   "execution_count": 26,
   "metadata": {},
   "outputs": [],
   "source": [
    "sample_rgb_image = torch.rand(15,3,224,224)\n",
    "sample_gray_image = torch.rand(1,1,224,224)"
   ]
  },
  {
   "cell_type": "code",
   "execution_count": 21,
   "metadata": {},
   "outputs": [
    {
     "name": "stderr",
     "output_type": "stream",
     "text": [
      "Downloading: \"https://github.com/pytorch/vision/zipball/v0.10.0\" to /home/somya/.cache/torch/hub/v0.10.0.zip\n",
      "/home/somya/miniconda3/envs/dl/lib/python3.11/site-packages/torchvision/models/_utils.py:208: UserWarning: The parameter 'pretrained' is deprecated since 0.13 and may be removed in the future, please use 'weights' instead.\n",
      "  warnings.warn(\n",
      "/home/somya/miniconda3/envs/dl/lib/python3.11/site-packages/torchvision/models/_utils.py:223: UserWarning: Arguments other than a weight enum or `None` for 'weights' are deprecated since 0.13 and may be removed in the future. The current behavior is equivalent to passing `weights=VGG11_Weights.IMAGENET1K_V1`. You can also use `weights=VGG11_Weights.DEFAULT` to get the most up-to-date weights.\n",
      "  warnings.warn(msg)\n",
      "Downloading: \"https://download.pytorch.org/models/vgg11-8a719046.pth\" to /home/somya/.cache/torch/hub/checkpoints/vgg11-8a719046.pth\n",
      "100%|██████████| 507M/507M [00:12<00:00, 42.6MB/s] \n"
     ]
    }
   ],
   "source": [
    "vgg11_model = torch.hub.load(\"pytorch/vision:v0.10.0\",'vgg11',pretrained=True)"
   ]
  },
  {
   "cell_type": "code",
   "execution_count": 30,
   "metadata": {},
   "outputs": [
    {
     "data": {
      "text/plain": [
       "VGG(\n",
       "  (features): Sequential(\n",
       "    (0): Conv2d(3, 64, kernel_size=(3, 3), stride=(1, 1), padding=(1, 1))\n",
       "    (1): ReLU(inplace=True)\n",
       "    (2): MaxPool2d(kernel_size=2, stride=2, padding=0, dilation=1, ceil_mode=False)\n",
       "    (3): Conv2d(64, 128, kernel_size=(3, 3), stride=(1, 1), padding=(1, 1))\n",
       "    (4): ReLU(inplace=True)\n",
       "    (5): MaxPool2d(kernel_size=2, stride=2, padding=0, dilation=1, ceil_mode=False)\n",
       "    (6): Conv2d(128, 256, kernel_size=(3, 3), stride=(1, 1), padding=(1, 1))\n",
       "    (7): ReLU(inplace=True)\n",
       "    (8): Conv2d(256, 256, kernel_size=(3, 3), stride=(1, 1), padding=(1, 1))\n",
       "    (9): ReLU(inplace=True)\n",
       "    (10): MaxPool2d(kernel_size=2, stride=2, padding=0, dilation=1, ceil_mode=False)\n",
       "    (11): Conv2d(256, 512, kernel_size=(3, 3), stride=(1, 1), padding=(1, 1))\n",
       "    (12): ReLU(inplace=True)\n",
       "    (13): Conv2d(512, 512, kernel_size=(3, 3), stride=(1, 1), padding=(1, 1))\n",
       "    (14): ReLU(inplace=True)\n",
       "    (15): MaxPool2d(kernel_size=2, stride=2, padding=0, dilation=1, ceil_mode=False)\n",
       "    (16): Conv2d(512, 512, kernel_size=(3, 3), stride=(1, 1), padding=(1, 1))\n",
       "    (17): ReLU(inplace=True)\n",
       "    (18): Conv2d(512, 512, kernel_size=(3, 3), stride=(1, 1), padding=(1, 1))\n",
       "    (19): ReLU(inplace=True)\n",
       "    (20): MaxPool2d(kernel_size=2, stride=2, padding=0, dilation=1, ceil_mode=False)\n",
       "  )\n",
       "  (avgpool): AdaptiveAvgPool2d(output_size=(7, 7))\n",
       "  (classifier): Sequential(\n",
       "    (0): Linear(in_features=25088, out_features=4096, bias=True)\n",
       "    (1): ReLU(inplace=True)\n",
       "    (2): Dropout(p=0.5, inplace=False)\n",
       "    (3): Linear(in_features=4096, out_features=4096, bias=True)\n",
       "    (4): ReLU(inplace=True)\n",
       "    (5): Dropout(p=0.5, inplace=False)\n",
       "    (6): Linear(in_features=4096, out_features=1000, bias=True)\n",
       "  )\n",
       ")"
      ]
     },
     "execution_count": 30,
     "metadata": {},
     "output_type": "execute_result"
    }
   ],
   "source": [
    "vgg11_model"
   ]
  },
  {
   "cell_type": "code",
   "execution_count": 29,
   "metadata": {},
   "outputs": [
    {
     "ename": "RuntimeError",
     "evalue": "Given input size: (512x1x1). Calculated output size: (512x0x0). Output size is too small",
     "output_type": "error",
     "traceback": [
      "\u001b[0;31m---------------------------------------------------------------------------\u001b[0m",
      "\u001b[0;31mRuntimeError\u001b[0m                              Traceback (most recent call last)",
      "Cell \u001b[0;32mIn[29], line 1\u001b[0m\n\u001b[0;32m----> 1\u001b[0m output1 \u001b[38;5;241m=\u001b[39m \u001b[43mvgg11_model\u001b[49m\u001b[43m(\u001b[49m\u001b[43mtorch\u001b[49m\u001b[38;5;241;43m.\u001b[39;49m\u001b[43mrand\u001b[49m\u001b[43m(\u001b[49m\u001b[43m[\u001b[49m\u001b[38;5;241;43m13\u001b[39;49m\u001b[43m,\u001b[49m\u001b[38;5;241;43m3\u001b[39;49m\u001b[43m,\u001b[49m\u001b[38;5;241;43m28\u001b[39;49m\u001b[43m,\u001b[49m\u001b[38;5;241;43m28\u001b[39;49m\u001b[43m]\u001b[49m\u001b[43m)\u001b[49m\u001b[43m)\u001b[49m\n",
      "File \u001b[0;32m~/miniconda3/envs/dl/lib/python3.11/site-packages/torch/nn/modules/module.py:1511\u001b[0m, in \u001b[0;36mModule._wrapped_call_impl\u001b[0;34m(self, *args, **kwargs)\u001b[0m\n\u001b[1;32m   1509\u001b[0m     \u001b[38;5;28;01mreturn\u001b[39;00m \u001b[38;5;28mself\u001b[39m\u001b[38;5;241m.\u001b[39m_compiled_call_impl(\u001b[38;5;241m*\u001b[39margs, \u001b[38;5;241m*\u001b[39m\u001b[38;5;241m*\u001b[39mkwargs)  \u001b[38;5;66;03m# type: ignore[misc]\u001b[39;00m\n\u001b[1;32m   1510\u001b[0m \u001b[38;5;28;01melse\u001b[39;00m:\n\u001b[0;32m-> 1511\u001b[0m     \u001b[38;5;28;01mreturn\u001b[39;00m \u001b[38;5;28;43mself\u001b[39;49m\u001b[38;5;241;43m.\u001b[39;49m\u001b[43m_call_impl\u001b[49m\u001b[43m(\u001b[49m\u001b[38;5;241;43m*\u001b[39;49m\u001b[43margs\u001b[49m\u001b[43m,\u001b[49m\u001b[43m \u001b[49m\u001b[38;5;241;43m*\u001b[39;49m\u001b[38;5;241;43m*\u001b[39;49m\u001b[43mkwargs\u001b[49m\u001b[43m)\u001b[49m\n",
      "File \u001b[0;32m~/miniconda3/envs/dl/lib/python3.11/site-packages/torch/nn/modules/module.py:1520\u001b[0m, in \u001b[0;36mModule._call_impl\u001b[0;34m(self, *args, **kwargs)\u001b[0m\n\u001b[1;32m   1515\u001b[0m \u001b[38;5;66;03m# If we don't have any hooks, we want to skip the rest of the logic in\u001b[39;00m\n\u001b[1;32m   1516\u001b[0m \u001b[38;5;66;03m# this function, and just call forward.\u001b[39;00m\n\u001b[1;32m   1517\u001b[0m \u001b[38;5;28;01mif\u001b[39;00m \u001b[38;5;129;01mnot\u001b[39;00m (\u001b[38;5;28mself\u001b[39m\u001b[38;5;241m.\u001b[39m_backward_hooks \u001b[38;5;129;01mor\u001b[39;00m \u001b[38;5;28mself\u001b[39m\u001b[38;5;241m.\u001b[39m_backward_pre_hooks \u001b[38;5;129;01mor\u001b[39;00m \u001b[38;5;28mself\u001b[39m\u001b[38;5;241m.\u001b[39m_forward_hooks \u001b[38;5;129;01mor\u001b[39;00m \u001b[38;5;28mself\u001b[39m\u001b[38;5;241m.\u001b[39m_forward_pre_hooks\n\u001b[1;32m   1518\u001b[0m         \u001b[38;5;129;01mor\u001b[39;00m _global_backward_pre_hooks \u001b[38;5;129;01mor\u001b[39;00m _global_backward_hooks\n\u001b[1;32m   1519\u001b[0m         \u001b[38;5;129;01mor\u001b[39;00m _global_forward_hooks \u001b[38;5;129;01mor\u001b[39;00m _global_forward_pre_hooks):\n\u001b[0;32m-> 1520\u001b[0m     \u001b[38;5;28;01mreturn\u001b[39;00m \u001b[43mforward_call\u001b[49m\u001b[43m(\u001b[49m\u001b[38;5;241;43m*\u001b[39;49m\u001b[43margs\u001b[49m\u001b[43m,\u001b[49m\u001b[43m \u001b[49m\u001b[38;5;241;43m*\u001b[39;49m\u001b[38;5;241;43m*\u001b[39;49m\u001b[43mkwargs\u001b[49m\u001b[43m)\u001b[49m\n\u001b[1;32m   1522\u001b[0m \u001b[38;5;28;01mtry\u001b[39;00m:\n\u001b[1;32m   1523\u001b[0m     result \u001b[38;5;241m=\u001b[39m \u001b[38;5;28;01mNone\u001b[39;00m\n",
      "File \u001b[0;32m~/miniconda3/envs/dl/lib/python3.11/site-packages/torchvision/models/vgg.py:66\u001b[0m, in \u001b[0;36mVGG.forward\u001b[0;34m(self, x)\u001b[0m\n\u001b[1;32m     65\u001b[0m \u001b[38;5;28;01mdef\u001b[39;00m \u001b[38;5;21mforward\u001b[39m(\u001b[38;5;28mself\u001b[39m, x: torch\u001b[38;5;241m.\u001b[39mTensor) \u001b[38;5;241m-\u001b[39m\u001b[38;5;241m>\u001b[39m torch\u001b[38;5;241m.\u001b[39mTensor:\n\u001b[0;32m---> 66\u001b[0m     x \u001b[38;5;241m=\u001b[39m \u001b[38;5;28;43mself\u001b[39;49m\u001b[38;5;241;43m.\u001b[39;49m\u001b[43mfeatures\u001b[49m\u001b[43m(\u001b[49m\u001b[43mx\u001b[49m\u001b[43m)\u001b[49m\n\u001b[1;32m     67\u001b[0m     x \u001b[38;5;241m=\u001b[39m \u001b[38;5;28mself\u001b[39m\u001b[38;5;241m.\u001b[39mavgpool(x)\n\u001b[1;32m     68\u001b[0m     x \u001b[38;5;241m=\u001b[39m torch\u001b[38;5;241m.\u001b[39mflatten(x, \u001b[38;5;241m1\u001b[39m)\n",
      "File \u001b[0;32m~/miniconda3/envs/dl/lib/python3.11/site-packages/torch/nn/modules/module.py:1511\u001b[0m, in \u001b[0;36mModule._wrapped_call_impl\u001b[0;34m(self, *args, **kwargs)\u001b[0m\n\u001b[1;32m   1509\u001b[0m     \u001b[38;5;28;01mreturn\u001b[39;00m \u001b[38;5;28mself\u001b[39m\u001b[38;5;241m.\u001b[39m_compiled_call_impl(\u001b[38;5;241m*\u001b[39margs, \u001b[38;5;241m*\u001b[39m\u001b[38;5;241m*\u001b[39mkwargs)  \u001b[38;5;66;03m# type: ignore[misc]\u001b[39;00m\n\u001b[1;32m   1510\u001b[0m \u001b[38;5;28;01melse\u001b[39;00m:\n\u001b[0;32m-> 1511\u001b[0m     \u001b[38;5;28;01mreturn\u001b[39;00m \u001b[38;5;28;43mself\u001b[39;49m\u001b[38;5;241;43m.\u001b[39;49m\u001b[43m_call_impl\u001b[49m\u001b[43m(\u001b[49m\u001b[38;5;241;43m*\u001b[39;49m\u001b[43margs\u001b[49m\u001b[43m,\u001b[49m\u001b[43m \u001b[49m\u001b[38;5;241;43m*\u001b[39;49m\u001b[38;5;241;43m*\u001b[39;49m\u001b[43mkwargs\u001b[49m\u001b[43m)\u001b[49m\n",
      "File \u001b[0;32m~/miniconda3/envs/dl/lib/python3.11/site-packages/torch/nn/modules/module.py:1520\u001b[0m, in \u001b[0;36mModule._call_impl\u001b[0;34m(self, *args, **kwargs)\u001b[0m\n\u001b[1;32m   1515\u001b[0m \u001b[38;5;66;03m# If we don't have any hooks, we want to skip the rest of the logic in\u001b[39;00m\n\u001b[1;32m   1516\u001b[0m \u001b[38;5;66;03m# this function, and just call forward.\u001b[39;00m\n\u001b[1;32m   1517\u001b[0m \u001b[38;5;28;01mif\u001b[39;00m \u001b[38;5;129;01mnot\u001b[39;00m (\u001b[38;5;28mself\u001b[39m\u001b[38;5;241m.\u001b[39m_backward_hooks \u001b[38;5;129;01mor\u001b[39;00m \u001b[38;5;28mself\u001b[39m\u001b[38;5;241m.\u001b[39m_backward_pre_hooks \u001b[38;5;129;01mor\u001b[39;00m \u001b[38;5;28mself\u001b[39m\u001b[38;5;241m.\u001b[39m_forward_hooks \u001b[38;5;129;01mor\u001b[39;00m \u001b[38;5;28mself\u001b[39m\u001b[38;5;241m.\u001b[39m_forward_pre_hooks\n\u001b[1;32m   1518\u001b[0m         \u001b[38;5;129;01mor\u001b[39;00m _global_backward_pre_hooks \u001b[38;5;129;01mor\u001b[39;00m _global_backward_hooks\n\u001b[1;32m   1519\u001b[0m         \u001b[38;5;129;01mor\u001b[39;00m _global_forward_hooks \u001b[38;5;129;01mor\u001b[39;00m _global_forward_pre_hooks):\n\u001b[0;32m-> 1520\u001b[0m     \u001b[38;5;28;01mreturn\u001b[39;00m \u001b[43mforward_call\u001b[49m\u001b[43m(\u001b[49m\u001b[38;5;241;43m*\u001b[39;49m\u001b[43margs\u001b[49m\u001b[43m,\u001b[49m\u001b[43m \u001b[49m\u001b[38;5;241;43m*\u001b[39;49m\u001b[38;5;241;43m*\u001b[39;49m\u001b[43mkwargs\u001b[49m\u001b[43m)\u001b[49m\n\u001b[1;32m   1522\u001b[0m \u001b[38;5;28;01mtry\u001b[39;00m:\n\u001b[1;32m   1523\u001b[0m     result \u001b[38;5;241m=\u001b[39m \u001b[38;5;28;01mNone\u001b[39;00m\n",
      "File \u001b[0;32m~/miniconda3/envs/dl/lib/python3.11/site-packages/torch/nn/modules/container.py:217\u001b[0m, in \u001b[0;36mSequential.forward\u001b[0;34m(self, input)\u001b[0m\n\u001b[1;32m    215\u001b[0m \u001b[38;5;28;01mdef\u001b[39;00m \u001b[38;5;21mforward\u001b[39m(\u001b[38;5;28mself\u001b[39m, \u001b[38;5;28minput\u001b[39m):\n\u001b[1;32m    216\u001b[0m     \u001b[38;5;28;01mfor\u001b[39;00m module \u001b[38;5;129;01min\u001b[39;00m \u001b[38;5;28mself\u001b[39m:\n\u001b[0;32m--> 217\u001b[0m         \u001b[38;5;28minput\u001b[39m \u001b[38;5;241m=\u001b[39m \u001b[43mmodule\u001b[49m\u001b[43m(\u001b[49m\u001b[38;5;28;43minput\u001b[39;49m\u001b[43m)\u001b[49m\n\u001b[1;32m    218\u001b[0m     \u001b[38;5;28;01mreturn\u001b[39;00m \u001b[38;5;28minput\u001b[39m\n",
      "File \u001b[0;32m~/miniconda3/envs/dl/lib/python3.11/site-packages/torch/nn/modules/module.py:1511\u001b[0m, in \u001b[0;36mModule._wrapped_call_impl\u001b[0;34m(self, *args, **kwargs)\u001b[0m\n\u001b[1;32m   1509\u001b[0m     \u001b[38;5;28;01mreturn\u001b[39;00m \u001b[38;5;28mself\u001b[39m\u001b[38;5;241m.\u001b[39m_compiled_call_impl(\u001b[38;5;241m*\u001b[39margs, \u001b[38;5;241m*\u001b[39m\u001b[38;5;241m*\u001b[39mkwargs)  \u001b[38;5;66;03m# type: ignore[misc]\u001b[39;00m\n\u001b[1;32m   1510\u001b[0m \u001b[38;5;28;01melse\u001b[39;00m:\n\u001b[0;32m-> 1511\u001b[0m     \u001b[38;5;28;01mreturn\u001b[39;00m \u001b[38;5;28;43mself\u001b[39;49m\u001b[38;5;241;43m.\u001b[39;49m\u001b[43m_call_impl\u001b[49m\u001b[43m(\u001b[49m\u001b[38;5;241;43m*\u001b[39;49m\u001b[43margs\u001b[49m\u001b[43m,\u001b[49m\u001b[43m \u001b[49m\u001b[38;5;241;43m*\u001b[39;49m\u001b[38;5;241;43m*\u001b[39;49m\u001b[43mkwargs\u001b[49m\u001b[43m)\u001b[49m\n",
      "File \u001b[0;32m~/miniconda3/envs/dl/lib/python3.11/site-packages/torch/nn/modules/module.py:1520\u001b[0m, in \u001b[0;36mModule._call_impl\u001b[0;34m(self, *args, **kwargs)\u001b[0m\n\u001b[1;32m   1515\u001b[0m \u001b[38;5;66;03m# If we don't have any hooks, we want to skip the rest of the logic in\u001b[39;00m\n\u001b[1;32m   1516\u001b[0m \u001b[38;5;66;03m# this function, and just call forward.\u001b[39;00m\n\u001b[1;32m   1517\u001b[0m \u001b[38;5;28;01mif\u001b[39;00m \u001b[38;5;129;01mnot\u001b[39;00m (\u001b[38;5;28mself\u001b[39m\u001b[38;5;241m.\u001b[39m_backward_hooks \u001b[38;5;129;01mor\u001b[39;00m \u001b[38;5;28mself\u001b[39m\u001b[38;5;241m.\u001b[39m_backward_pre_hooks \u001b[38;5;129;01mor\u001b[39;00m \u001b[38;5;28mself\u001b[39m\u001b[38;5;241m.\u001b[39m_forward_hooks \u001b[38;5;129;01mor\u001b[39;00m \u001b[38;5;28mself\u001b[39m\u001b[38;5;241m.\u001b[39m_forward_pre_hooks\n\u001b[1;32m   1518\u001b[0m         \u001b[38;5;129;01mor\u001b[39;00m _global_backward_pre_hooks \u001b[38;5;129;01mor\u001b[39;00m _global_backward_hooks\n\u001b[1;32m   1519\u001b[0m         \u001b[38;5;129;01mor\u001b[39;00m _global_forward_hooks \u001b[38;5;129;01mor\u001b[39;00m _global_forward_pre_hooks):\n\u001b[0;32m-> 1520\u001b[0m     \u001b[38;5;28;01mreturn\u001b[39;00m \u001b[43mforward_call\u001b[49m\u001b[43m(\u001b[49m\u001b[38;5;241;43m*\u001b[39;49m\u001b[43margs\u001b[49m\u001b[43m,\u001b[49m\u001b[43m \u001b[49m\u001b[38;5;241;43m*\u001b[39;49m\u001b[38;5;241;43m*\u001b[39;49m\u001b[43mkwargs\u001b[49m\u001b[43m)\u001b[49m\n\u001b[1;32m   1522\u001b[0m \u001b[38;5;28;01mtry\u001b[39;00m:\n\u001b[1;32m   1523\u001b[0m     result \u001b[38;5;241m=\u001b[39m \u001b[38;5;28;01mNone\u001b[39;00m\n",
      "File \u001b[0;32m~/miniconda3/envs/dl/lib/python3.11/site-packages/torch/nn/modules/pooling.py:164\u001b[0m, in \u001b[0;36mMaxPool2d.forward\u001b[0;34m(self, input)\u001b[0m\n\u001b[1;32m    163\u001b[0m \u001b[38;5;28;01mdef\u001b[39;00m \u001b[38;5;21mforward\u001b[39m(\u001b[38;5;28mself\u001b[39m, \u001b[38;5;28minput\u001b[39m: Tensor):\n\u001b[0;32m--> 164\u001b[0m     \u001b[38;5;28;01mreturn\u001b[39;00m \u001b[43mF\u001b[49m\u001b[38;5;241;43m.\u001b[39;49m\u001b[43mmax_pool2d\u001b[49m\u001b[43m(\u001b[49m\u001b[38;5;28;43minput\u001b[39;49m\u001b[43m,\u001b[49m\u001b[43m \u001b[49m\u001b[38;5;28;43mself\u001b[39;49m\u001b[38;5;241;43m.\u001b[39;49m\u001b[43mkernel_size\u001b[49m\u001b[43m,\u001b[49m\u001b[43m \u001b[49m\u001b[38;5;28;43mself\u001b[39;49m\u001b[38;5;241;43m.\u001b[39;49m\u001b[43mstride\u001b[49m\u001b[43m,\u001b[49m\n\u001b[1;32m    165\u001b[0m \u001b[43m                        \u001b[49m\u001b[38;5;28;43mself\u001b[39;49m\u001b[38;5;241;43m.\u001b[39;49m\u001b[43mpadding\u001b[49m\u001b[43m,\u001b[49m\u001b[43m \u001b[49m\u001b[38;5;28;43mself\u001b[39;49m\u001b[38;5;241;43m.\u001b[39;49m\u001b[43mdilation\u001b[49m\u001b[43m,\u001b[49m\u001b[43m \u001b[49m\u001b[43mceil_mode\u001b[49m\u001b[38;5;241;43m=\u001b[39;49m\u001b[38;5;28;43mself\u001b[39;49m\u001b[38;5;241;43m.\u001b[39;49m\u001b[43mceil_mode\u001b[49m\u001b[43m,\u001b[49m\n\u001b[1;32m    166\u001b[0m \u001b[43m                        \u001b[49m\u001b[43mreturn_indices\u001b[49m\u001b[38;5;241;43m=\u001b[39;49m\u001b[38;5;28;43mself\u001b[39;49m\u001b[38;5;241;43m.\u001b[39;49m\u001b[43mreturn_indices\u001b[49m\u001b[43m)\u001b[49m\n",
      "File \u001b[0;32m~/miniconda3/envs/dl/lib/python3.11/site-packages/torch/_jit_internal.py:499\u001b[0m, in \u001b[0;36mboolean_dispatch.<locals>.fn\u001b[0;34m(*args, **kwargs)\u001b[0m\n\u001b[1;32m    497\u001b[0m     \u001b[38;5;28;01mreturn\u001b[39;00m if_true(\u001b[38;5;241m*\u001b[39margs, \u001b[38;5;241m*\u001b[39m\u001b[38;5;241m*\u001b[39mkwargs)\n\u001b[1;32m    498\u001b[0m \u001b[38;5;28;01melse\u001b[39;00m:\n\u001b[0;32m--> 499\u001b[0m     \u001b[38;5;28;01mreturn\u001b[39;00m \u001b[43mif_false\u001b[49m\u001b[43m(\u001b[49m\u001b[38;5;241;43m*\u001b[39;49m\u001b[43margs\u001b[49m\u001b[43m,\u001b[49m\u001b[43m \u001b[49m\u001b[38;5;241;43m*\u001b[39;49m\u001b[38;5;241;43m*\u001b[39;49m\u001b[43mkwargs\u001b[49m\u001b[43m)\u001b[49m\n",
      "File \u001b[0;32m~/miniconda3/envs/dl/lib/python3.11/site-packages/torch/nn/functional.py:796\u001b[0m, in \u001b[0;36m_max_pool2d\u001b[0;34m(input, kernel_size, stride, padding, dilation, ceil_mode, return_indices)\u001b[0m\n\u001b[1;32m    794\u001b[0m \u001b[38;5;28;01mif\u001b[39;00m stride \u001b[38;5;129;01mis\u001b[39;00m \u001b[38;5;28;01mNone\u001b[39;00m:\n\u001b[1;32m    795\u001b[0m     stride \u001b[38;5;241m=\u001b[39m torch\u001b[38;5;241m.\u001b[39mjit\u001b[38;5;241m.\u001b[39mannotate(List[\u001b[38;5;28mint\u001b[39m], [])\n\u001b[0;32m--> 796\u001b[0m \u001b[38;5;28;01mreturn\u001b[39;00m \u001b[43mtorch\u001b[49m\u001b[38;5;241;43m.\u001b[39;49m\u001b[43mmax_pool2d\u001b[49m\u001b[43m(\u001b[49m\u001b[38;5;28;43minput\u001b[39;49m\u001b[43m,\u001b[49m\u001b[43m \u001b[49m\u001b[43mkernel_size\u001b[49m\u001b[43m,\u001b[49m\u001b[43m \u001b[49m\u001b[43mstride\u001b[49m\u001b[43m,\u001b[49m\u001b[43m \u001b[49m\u001b[43mpadding\u001b[49m\u001b[43m,\u001b[49m\u001b[43m \u001b[49m\u001b[43mdilation\u001b[49m\u001b[43m,\u001b[49m\u001b[43m \u001b[49m\u001b[43mceil_mode\u001b[49m\u001b[43m)\u001b[49m\n",
      "\u001b[0;31mRuntimeError\u001b[0m: Given input size: (512x1x1). Calculated output size: (512x0x0). Output size is too small"
     ]
    }
   ],
   "source": [
    "output1 = vgg11_model(torch.rand([13,3,28,28]))\n"
   ]
  },
  {
   "cell_type": "code",
   "execution_count": 28,
   "metadata": {},
   "outputs": [
    {
     "data": {
      "text/plain": [
       "torch.Size([15, 1000])"
      ]
     },
     "execution_count": 28,
     "metadata": {},
     "output_type": "execute_result"
    }
   ],
   "source": [
    "output1.shape"
   ]
  },
  {
   "cell_type": "code",
   "execution_count": null,
   "metadata": {},
   "outputs": [],
   "source": [
    "vgg11_model.classifier[6] = "
   ]
  }
 ],
 "metadata": {
  "kernelspec": {
   "display_name": "dl",
   "language": "python",
   "name": "python3"
  },
  "language_info": {
   "codemirror_mode": {
    "name": "ipython",
    "version": 3
   },
   "file_extension": ".py",
   "mimetype": "text/x-python",
   "name": "python",
   "nbconvert_exporter": "python",
   "pygments_lexer": "ipython3",
   "version": "3.11.5"
  }
 },
 "nbformat": 4,
 "nbformat_minor": 2
}
